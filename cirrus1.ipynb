{
  "nbformat": 4,
  "nbformat_minor": 0,
  "metadata": {
    "colab": {
      "provenance": [],
      "authorship_tag": "ABX9TyNlNGEhLeG8FuS6TJr6iXVj",
      "include_colab_link": true
    },
    "kernelspec": {
      "name": "python3",
      "display_name": "Python 3"
    },
    "language_info": {
      "name": "python"
    }
  },
  "cells": [
    {
      "cell_type": "markdown",
      "metadata": {
        "id": "view-in-github",
        "colab_type": "text"
      },
      "source": [
        "<a href=\"https://colab.research.google.com/github/sukh-brar/prework-study-guide/blob/main/cirrus1.ipynb\" target=\"_parent\"><img src=\"https://colab.research.google.com/assets/colab-badge.svg\" alt=\"Open In Colab\"/></a>"
      ]
    },
    {
      "cell_type": "code",
      "execution_count": 1,
      "metadata": {
        "colab": {
          "base_uri": "https://localhost:8080/"
        },
        "id": "LnVbteu1TBxw",
        "outputId": "3f95431c-fcb1-4be8-cfea-20e4b57d65f1"
      },
      "outputs": [
        {
          "output_type": "stream",
          "name": "stdout",
          "text": [
            "Requirement already satisfied: pycontrails in /usr/local/lib/python3.10/dist-packages (0.52.0)\n",
            "Requirement already satisfied: dask>=2022.3 in /usr/local/lib/python3.10/dist-packages (from pycontrails) (2023.8.1)\n",
            "Requirement already satisfied: numpy<2.0.0,>=1.22 in /usr/local/lib/python3.10/dist-packages (from pycontrails) (1.25.2)\n",
            "Requirement already satisfied: overrides>=6.1 in /usr/local/lib/python3.10/dist-packages (from pycontrails) (7.7.0)\n",
            "Requirement already satisfied: pandas>=2.2 in /usr/local/lib/python3.10/dist-packages (from pycontrails) (2.2.2)\n",
            "Requirement already satisfied: scipy>=1.10 in /usr/local/lib/python3.10/dist-packages (from pycontrails) (1.11.4)\n",
            "Requirement already satisfied: xarray>=2022.3 in /usr/local/lib/python3.10/dist-packages (from pycontrails) (2023.7.0)\n",
            "Requirement already satisfied: click>=8.0 in /usr/local/lib/python3.10/dist-packages (from dask>=2022.3->pycontrails) (8.1.7)\n",
            "Requirement already satisfied: cloudpickle>=1.5.0 in /usr/local/lib/python3.10/dist-packages (from dask>=2022.3->pycontrails) (2.2.1)\n",
            "Requirement already satisfied: fsspec>=2021.09.0 in /usr/local/lib/python3.10/dist-packages (from dask>=2022.3->pycontrails) (2023.6.0)\n",
            "Requirement already satisfied: packaging>=20.0 in /usr/local/lib/python3.10/dist-packages (from dask>=2022.3->pycontrails) (24.1)\n",
            "Requirement already satisfied: partd>=1.2.0 in /usr/local/lib/python3.10/dist-packages (from dask>=2022.3->pycontrails) (1.4.2)\n",
            "Requirement already satisfied: pyyaml>=5.3.1 in /usr/local/lib/python3.10/dist-packages (from dask>=2022.3->pycontrails) (6.0.1)\n",
            "Requirement already satisfied: toolz>=0.10.0 in /usr/local/lib/python3.10/dist-packages (from dask>=2022.3->pycontrails) (0.12.1)\n",
            "Requirement already satisfied: importlib-metadata>=4.13.0 in /usr/local/lib/python3.10/dist-packages (from dask>=2022.3->pycontrails) (8.0.0)\n",
            "Requirement already satisfied: python-dateutil>=2.8.2 in /usr/local/lib/python3.10/dist-packages (from pandas>=2.2->pycontrails) (2.8.2)\n",
            "Requirement already satisfied: pytz>=2020.1 in /usr/local/lib/python3.10/dist-packages (from pandas>=2.2->pycontrails) (2023.4)\n",
            "Requirement already satisfied: tzdata>=2022.7 in /usr/local/lib/python3.10/dist-packages (from pandas>=2.2->pycontrails) (2024.1)\n",
            "Requirement already satisfied: zipp>=0.5 in /usr/local/lib/python3.10/dist-packages (from importlib-metadata>=4.13.0->dask>=2022.3->pycontrails) (3.19.2)\n",
            "Requirement already satisfied: locket in /usr/local/lib/python3.10/dist-packages (from partd>=1.2.0->dask>=2022.3->pycontrails) (1.0.0)\n",
            "Requirement already satisfied: six>=1.5 in /usr/local/lib/python3.10/dist-packages (from python-dateutil>=2.8.2->pandas>=2.2->pycontrails) (1.16.0)\n"
          ]
        }
      ],
      "source": [
        "!pip install pycontrails"
      ]
    },
    {
      "cell_type": "code",
      "source": [
        "!pip install cartopy"
      ],
      "metadata": {
        "colab": {
          "base_uri": "https://localhost:8080/"
        },
        "id": "S4E8BGhHTWyi",
        "outputId": "1e1fea0f-7c14-4bb6-d36f-cfa173253c66"
      },
      "execution_count": 2,
      "outputs": [
        {
          "output_type": "stream",
          "name": "stdout",
          "text": [
            "Requirement already satisfied: cartopy in /usr/local/lib/python3.10/dist-packages (0.23.0)\n",
            "Requirement already satisfied: numpy>=1.21 in /usr/local/lib/python3.10/dist-packages (from cartopy) (1.25.2)\n",
            "Requirement already satisfied: matplotlib>=3.5 in /usr/local/lib/python3.10/dist-packages (from cartopy) (3.7.1)\n",
            "Requirement already satisfied: shapely>=1.7 in /usr/local/lib/python3.10/dist-packages (from cartopy) (2.0.4)\n",
            "Requirement already satisfied: packaging>=20 in /usr/local/lib/python3.10/dist-packages (from cartopy) (24.1)\n",
            "Requirement already satisfied: pyshp>=2.3 in /usr/local/lib/python3.10/dist-packages (from cartopy) (2.3.1)\n",
            "Requirement already satisfied: pyproj>=3.3.1 in /usr/local/lib/python3.10/dist-packages (from cartopy) (3.6.1)\n",
            "Requirement already satisfied: contourpy>=1.0.1 in /usr/local/lib/python3.10/dist-packages (from matplotlib>=3.5->cartopy) (1.2.1)\n",
            "Requirement already satisfied: cycler>=0.10 in /usr/local/lib/python3.10/dist-packages (from matplotlib>=3.5->cartopy) (0.12.1)\n",
            "Requirement already satisfied: fonttools>=4.22.0 in /usr/local/lib/python3.10/dist-packages (from matplotlib>=3.5->cartopy) (4.53.0)\n",
            "Requirement already satisfied: kiwisolver>=1.0.1 in /usr/local/lib/python3.10/dist-packages (from matplotlib>=3.5->cartopy) (1.4.5)\n",
            "Requirement already satisfied: pillow>=6.2.0 in /usr/local/lib/python3.10/dist-packages (from matplotlib>=3.5->cartopy) (9.4.0)\n",
            "Requirement already satisfied: pyparsing>=2.3.1 in /usr/local/lib/python3.10/dist-packages (from matplotlib>=3.5->cartopy) (3.1.2)\n",
            "Requirement already satisfied: python-dateutil>=2.7 in /usr/local/lib/python3.10/dist-packages (from matplotlib>=3.5->cartopy) (2.8.2)\n",
            "Requirement already satisfied: certifi in /usr/local/lib/python3.10/dist-packages (from pyproj>=3.3.1->cartopy) (2024.6.2)\n",
            "Requirement already satisfied: six>=1.5 in /usr/local/lib/python3.10/dist-packages (from python-dateutil>=2.7->matplotlib>=3.5->cartopy) (1.16.0)\n"
          ]
        }
      ]
    },
    {
      "cell_type": "code",
      "source": [
        "import numpy as np\n",
        "import pandas as pd\n",
        "from matplotlib import pyplot as plt\n",
        "\n",
        "from pycontrails import Flight, MetDataset\n",
        "from pycontrails.datalib.ecmwf import ERA5\n",
        "from pycontrails.models.cocip import Cocip\n",
        "from pycontrails.models.humidity_scaling import ConstantHumidityScaling\n",
        "\n",
        "plt.rcParams[\"figure.figsize\"] = (10, 6)"
      ],
      "metadata": {
        "id": "UjEEbTw_Th00"
      },
      "execution_count": 3,
      "outputs": []
    },
    {
      "cell_type": "code",
      "source": [
        "time_bounds = (\"2022-03-01 00:00:00\", \"2022-03-01 23:00:00\")\n",
        "pressure_levels = (300, 250, 200)"
      ],
      "metadata": {
        "id": "F6YpLXuKTspC"
      },
      "execution_count": 4,
      "outputs": []
    },
    {
      "cell_type": "code",
      "source": [
        "era5pl = ERA5(\n",
        "    time=time_bounds,\n",
        "    variables=Cocip.met_variables + Cocip.optional_met_variables,\n",
        "    pressure_levels=pressure_levels,\n",
        ")\n",
        "era5sl = ERA5(time=time_bounds, variables=Cocip.rad_variables)"
      ],
      "metadata": {
        "id": "j6QGDVH-TwtH"
      },
      "execution_count": 5,
      "outputs": []
    },
    {
      "cell_type": "code",
      "source": [
        "!pip install cdsapi"
      ],
      "metadata": {
        "colab": {
          "base_uri": "https://localhost:8080/"
        },
        "id": "jUC7C9ILT0Eb",
        "outputId": "67b5c83c-07db-43d3-e63b-b02278dcdace"
      },
      "execution_count": 6,
      "outputs": [
        {
          "output_type": "stream",
          "name": "stdout",
          "text": [
            "Requirement already satisfied: cdsapi in /usr/local/lib/python3.10/dist-packages (0.5.1)\n",
            "Requirement already satisfied: requests>=2.5.0 in /usr/local/lib/python3.10/dist-packages (from cdsapi) (2.31.0)\n",
            "Requirement already satisfied: tqdm in /usr/local/lib/python3.10/dist-packages (from cdsapi) (4.66.4)\n",
            "Requirement already satisfied: charset-normalizer<4,>=2 in /usr/local/lib/python3.10/dist-packages (from requests>=2.5.0->cdsapi) (3.3.2)\n",
            "Requirement already satisfied: idna<4,>=2.5 in /usr/local/lib/python3.10/dist-packages (from requests>=2.5.0->cdsapi) (3.7)\n",
            "Requirement already satisfied: urllib3<3,>=1.21.1 in /usr/local/lib/python3.10/dist-packages (from requests>=2.5.0->cdsapi) (2.0.7)\n",
            "Requirement already satisfied: certifi>=2017.4.17 in /usr/local/lib/python3.10/dist-packages (from requests>=2.5.0->cdsapi) (2024.6.2)\n"
          ]
        }
      ]
    },
    {
      "cell_type": "code",
      "source": [
        "!echo \"url: https://cds.climate.copernicus.eu/api/v2\" > ~/.cdsapirc\n",
        "!echo \"key: 322987:36255fee-a1f4-42fb-a4f0-a687e9e6f6c4\" >> ~/.cdsapirc"
      ],
      "metadata": {
        "id": "UrONL9fhT4Na"
      },
      "execution_count": 7,
      "outputs": []
    },
    {
      "cell_type": "code",
      "source": [
        "!pip install netcdf4"
      ],
      "metadata": {
        "colab": {
          "base_uri": "https://localhost:8080/"
        },
        "id": "qpHE0jmRT7w9",
        "outputId": "66498649-6ba9-4632-a10f-3a0e04c70588"
      },
      "execution_count": 8,
      "outputs": [
        {
          "output_type": "stream",
          "name": "stdout",
          "text": [
            "Requirement already satisfied: netcdf4 in /usr/local/lib/python3.10/dist-packages (1.7.1.post1)\n",
            "Requirement already satisfied: cftime in /usr/local/lib/python3.10/dist-packages (from netcdf4) (1.6.4)\n",
            "Requirement already satisfied: certifi in /usr/local/lib/python3.10/dist-packages (from netcdf4) (2024.6.2)\n",
            "Requirement already satisfied: numpy in /usr/local/lib/python3.10/dist-packages (from netcdf4) (1.25.2)\n"
          ]
        }
      ]
    },
    {
      "cell_type": "code",
      "source": [
        "!pip install netcdf4 # Install netcdf4 library\n",
        "\n",
        "import xarray as xr\n",
        "\n",
        "# download data from ERA5 (or open from cache)\n",
        "met = era5pl.open_metdataset(engine=\"h5netcdf\")  # Use h5netcdf engine which supports netcdf4 files\n",
        "rad = era5sl.open_metdataset(engine=\"h5netcdf\")  # Use h5netcdf engine which supports netcdf4 files"
      ],
      "metadata": {
        "colab": {
          "base_uri": "https://localhost:8080/"
        },
        "id": "-gH6Uy8SUCDm",
        "outputId": "ecbde308-eb87-4031-ea93-ca5ff78aec50"
      },
      "execution_count": 9,
      "outputs": [
        {
          "output_type": "stream",
          "name": "stdout",
          "text": [
            "Requirement already satisfied: netcdf4 in /usr/local/lib/python3.10/dist-packages (1.7.1.post1)\n",
            "Requirement already satisfied: cftime in /usr/local/lib/python3.10/dist-packages (from netcdf4) (1.6.4)\n",
            "Requirement already satisfied: certifi in /usr/local/lib/python3.10/dist-packages (from netcdf4) (2024.6.2)\n",
            "Requirement already satisfied: numpy in /usr/local/lib/python3.10/dist-packages (from netcdf4) (1.25.2)\n"
          ]
        }
      ]
    },
    {
      "cell_type": "code",
      "source": [
        "# demo synthetic flight\n",
        "flight_attrs = {\n",
        "    \"flight_id\": \"test\",\n",
        "    # set constants along flight path\n",
        "    \"true_airspeed\": 226.099920796651,  # true airspeed, m/s\n",
        "    \"thrust\": 0.22,  # thrust_setting\n",
        "    \"nvpm_ei_n\": 1.897462e15,  # non-volatile emissions index\n",
        "    \"aircraft_type\": \"E190\",\n",
        "    \"wingspan\": 48,  # m\n",
        "    \"n_engine\": 2,\n",
        "}\n",
        "\n",
        "# Example flight\n",
        "df = pd.DataFrame()\n",
        "df[\"longitude\"] = np.linspace(-25, -40, 100)\n",
        "df[\"latitude\"] = np.linspace(34, 40, 100)\n",
        "df[\"altitude\"] = np.linspace(10900, 10900, 100)\n",
        "df[\"engine_efficiency\"] = np.linspace(0.34, 0.35, 100)\n",
        "df[\"fuel_flow\"] = np.linspace(2.1, 2.4, 100)  # kg/s\n",
        "df[\"aircraft_mass\"] = np.linspace(154445, 154345, 100)  # kg\n",
        "df[\"time\"] = pd.date_range(\"2022-03-01T00:15:00\", \"2022-03-01T02:30:00\", periods=100)\n",
        "\n",
        "flight = Flight(df, attrs=flight_attrs)\n",
        "flight"
      ],
      "metadata": {
        "colab": {
          "base_uri": "https://localhost:8080/",
          "height": 912
        },
        "id": "rkMe6-njWegT",
        "outputId": "b23ecfc9-ad7c-4a5f-bb8d-cddcdb842e14"
      },
      "execution_count": 10,
      "outputs": [
        {
          "output_type": "execute_result",
          "data": {
            "text/plain": [
              "Flight [7 keys x 100 length, 8 attributes]\n",
              "\tKeys: longitude, latitude, altitude, engine_efficiency, fuel_flow, ..., time\n",
              "\tAttributes:\n",
              "\ttime                [2022-03-01 00:15:00, 2022-03-01 02:30:00]\n",
              "\tlongitude           [-40.0, -25.0]\n",
              "\tlatitude            [34.0, 40.0]\n",
              "\taltitude            [10900.0, 10900.0]\n",
              "\tflight_id           test\n",
              "\ttrue_airspeed       226.099920796651\n",
              "\tthrust              0.22\n",
              "\tnvpm_ei_n           1897462000000000.0\n",
              "\taircraft_type       E190\n",
              "\twingspan            48\n",
              "\tn_engine            2\n",
              "\tcrs                 EPSG:4326"
            ],
            "text/html": [
              "<b>Flight</b> [7 keys x 100 length, 8 attributes]<br/ ><br/><table><tr style=\"border-bottom:1px solid silver\"><th colspan=\"2\">Attributes</th></tr><tr><td>time</td><td>[2022-03-01 00:15:00, 2022-03-01 02:30:00]</td></tr><tr><td>longitude</td><td>[-40.0, -25.0]</td></tr><tr><td>latitude</td><td>[34.0, 40.0]</td></tr><tr><td>altitude</td><td>[10900.0, 10900.0]</td></tr><tr><td>flight_id</td><td>test</td></tr><tr><td>true_airspeed</td><td>226.099920796651</td></tr><tr><td>thrust</td><td>0.22</td></tr><tr><td>nvpm_ei_n</td><td>1897462000000000.0</td></tr><tr><td>aircraft_type</td><td>E190</td></tr><tr><td>wingspan</td><td>48</td></tr><tr><td>n_engine</td><td>2</td></tr><tr><td>crs</td><td>EPSG:4326</td></tr></table><div>\n",
              "<style scoped>\n",
              "    .dataframe tbody tr th:only-of-type {\n",
              "        vertical-align: middle;\n",
              "    }\n",
              "\n",
              "    .dataframe tbody tr th {\n",
              "        vertical-align: top;\n",
              "    }\n",
              "\n",
              "    .dataframe thead th {\n",
              "        text-align: right;\n",
              "    }\n",
              "</style>\n",
              "<table border=\"1\" class=\"dataframe\">\n",
              "  <thead>\n",
              "    <tr style=\"text-align: right;\">\n",
              "      <th></th>\n",
              "      <th>longitude</th>\n",
              "      <th>latitude</th>\n",
              "      <th>altitude</th>\n",
              "      <th>engine_efficiency</th>\n",
              "      <th>fuel_flow</th>\n",
              "      <th>aircraft_mass</th>\n",
              "      <th>time</th>\n",
              "    </tr>\n",
              "  </thead>\n",
              "  <tbody>\n",
              "    <tr>\n",
              "      <th>0</th>\n",
              "      <td>-25.000000</td>\n",
              "      <td>34.000000</td>\n",
              "      <td>10900.0</td>\n",
              "      <td>0.340000</td>\n",
              "      <td>2.100000</td>\n",
              "      <td>154445.000000</td>\n",
              "      <td>2022-03-01 00:15:00.000000000</td>\n",
              "    </tr>\n",
              "    <tr>\n",
              "      <th>1</th>\n",
              "      <td>-25.151515</td>\n",
              "      <td>34.060606</td>\n",
              "      <td>10900.0</td>\n",
              "      <td>0.340101</td>\n",
              "      <td>2.103030</td>\n",
              "      <td>154443.989899</td>\n",
              "      <td>2022-03-01 00:16:21.818181818</td>\n",
              "    </tr>\n",
              "    <tr>\n",
              "      <th>2</th>\n",
              "      <td>-25.303030</td>\n",
              "      <td>34.121212</td>\n",
              "      <td>10900.0</td>\n",
              "      <td>0.340202</td>\n",
              "      <td>2.106061</td>\n",
              "      <td>154442.979798</td>\n",
              "      <td>2022-03-01 00:17:43.636363636</td>\n",
              "    </tr>\n",
              "    <tr>\n",
              "      <th>3</th>\n",
              "      <td>-25.454545</td>\n",
              "      <td>34.181818</td>\n",
              "      <td>10900.0</td>\n",
              "      <td>0.340303</td>\n",
              "      <td>2.109091</td>\n",
              "      <td>154441.969697</td>\n",
              "      <td>2022-03-01 00:19:05.454545454</td>\n",
              "    </tr>\n",
              "    <tr>\n",
              "      <th>4</th>\n",
              "      <td>-25.606061</td>\n",
              "      <td>34.242424</td>\n",
              "      <td>10900.0</td>\n",
              "      <td>0.340404</td>\n",
              "      <td>2.112121</td>\n",
              "      <td>154440.959596</td>\n",
              "      <td>2022-03-01 00:20:27.272727272</td>\n",
              "    </tr>\n",
              "    <tr>\n",
              "      <th>...</th>\n",
              "      <td>...</td>\n",
              "      <td>...</td>\n",
              "      <td>...</td>\n",
              "      <td>...</td>\n",
              "      <td>...</td>\n",
              "      <td>...</td>\n",
              "      <td>...</td>\n",
              "    </tr>\n",
              "    <tr>\n",
              "      <th>95</th>\n",
              "      <td>-39.393939</td>\n",
              "      <td>39.757576</td>\n",
              "      <td>10900.0</td>\n",
              "      <td>0.349596</td>\n",
              "      <td>2.387879</td>\n",
              "      <td>154349.040404</td>\n",
              "      <td>2022-03-01 02:24:32.727272727</td>\n",
              "    </tr>\n",
              "    <tr>\n",
              "      <th>96</th>\n",
              "      <td>-39.545455</td>\n",
              "      <td>39.818182</td>\n",
              "      <td>10900.0</td>\n",
              "      <td>0.349697</td>\n",
              "      <td>2.390909</td>\n",
              "      <td>154348.030303</td>\n",
              "      <td>2022-03-01 02:25:54.545454545</td>\n",
              "    </tr>\n",
              "    <tr>\n",
              "      <th>97</th>\n",
              "      <td>-39.696970</td>\n",
              "      <td>39.878788</td>\n",
              "      <td>10900.0</td>\n",
              "      <td>0.349798</td>\n",
              "      <td>2.393939</td>\n",
              "      <td>154347.020202</td>\n",
              "      <td>2022-03-01 02:27:16.363636363</td>\n",
              "    </tr>\n",
              "    <tr>\n",
              "      <th>98</th>\n",
              "      <td>-39.848485</td>\n",
              "      <td>39.939394</td>\n",
              "      <td>10900.0</td>\n",
              "      <td>0.349899</td>\n",
              "      <td>2.396970</td>\n",
              "      <td>154346.010101</td>\n",
              "      <td>2022-03-01 02:28:38.181818181</td>\n",
              "    </tr>\n",
              "    <tr>\n",
              "      <th>99</th>\n",
              "      <td>-40.000000</td>\n",
              "      <td>40.000000</td>\n",
              "      <td>10900.0</td>\n",
              "      <td>0.350000</td>\n",
              "      <td>2.400000</td>\n",
              "      <td>154345.000000</td>\n",
              "      <td>2022-03-01 02:30:00.000000000</td>\n",
              "    </tr>\n",
              "  </tbody>\n",
              "</table>\n",
              "<p>100 rows × 7 columns</p>\n",
              "</div>"
            ]
          },
          "metadata": {},
          "execution_count": 10
        }
      ]
    },
    {
      "source": [
        "!pip install h5netcdf  # Ensure h5netcdf is installed\n",
        "\n",
        "import xarray as xr\n",
        "import h5netcdf  # Explicitly import h5netcdf\n",
        "\n",
        "# ... (rest of your code)"
      ],
      "cell_type": "code",
      "metadata": {
        "colab": {
          "base_uri": "https://localhost:8080/"
        },
        "id": "Q0XYdWAzjfep",
        "outputId": "e9069f09-c92e-4fe5-e5bb-e48c682a4f16"
      },
      "execution_count": 11,
      "outputs": [
        {
          "output_type": "stream",
          "name": "stdout",
          "text": [
            "Requirement already satisfied: h5netcdf in /usr/local/lib/python3.10/dist-packages (1.3.0)\n",
            "Requirement already satisfied: h5py in /usr/local/lib/python3.10/dist-packages (from h5netcdf) (3.9.0)\n",
            "Requirement already satisfied: packaging in /usr/local/lib/python3.10/dist-packages (from h5netcdf) (24.1)\n",
            "Requirement already satisfied: numpy>=1.17.3 in /usr/local/lib/python3.10/dist-packages (from h5py->h5netcdf) (1.25.2)\n"
          ]
        }
      ]
    },
    {
      "cell_type": "code",
      "source": [
        "params = {\n",
        "    \"dt_integration\": np.timedelta64(10, \"m\"),\n",
        "    # The humidity_scaling parameter is only used for ECMWF ERA5 data\n",
        "    # based on Teoh 2020 and Teoh 2022 - https://acp.copernicus.org/preprints/acp-2022-169/acp-2022-169.pdf\n",
        "    # Here we use an example of constantly scaling the humidity value by 0.99\n",
        "    \"humidity_scaling\": ConstantHumidityScaling(rhi_adj=0.99),\n",
        "}\n",
        "cocip = Cocip(met=met, rad=rad, params=params)\n",
        "\n",
        "output_flight = cocip.eval(source=flight)"
      ],
      "metadata": {
        "colab": {
          "base_uri": "https://localhost:8080/",
          "height": 233
        },
        "id": "INW-Z8-_Ztxz",
        "outputId": "ecb9d875-a950-4c32-e947-7db544bd72f3"
      },
      "execution_count": 1,
      "outputs": [
        {
          "output_type": "error",
          "ename": "NameError",
          "evalue": "name 'np' is not defined",
          "traceback": [
            "\u001b[0;31m---------------------------------------------------------------------------\u001b[0m",
            "\u001b[0;31mNameError\u001b[0m                                 Traceback (most recent call last)",
            "\u001b[0;32m<ipython-input-1-5de1acfc4c85>\u001b[0m in \u001b[0;36m<cell line: 2>\u001b[0;34m()\u001b[0m\n\u001b[1;32m      1\u001b[0m params = {\n\u001b[0;32m----> 2\u001b[0;31m     \u001b[0;34m\"dt_integration\"\u001b[0m\u001b[0;34m:\u001b[0m \u001b[0mnp\u001b[0m\u001b[0;34m.\u001b[0m\u001b[0mtimedelta64\u001b[0m\u001b[0;34m(\u001b[0m\u001b[0;36m10\u001b[0m\u001b[0;34m,\u001b[0m \u001b[0;34m\"m\"\u001b[0m\u001b[0;34m)\u001b[0m\u001b[0;34m,\u001b[0m\u001b[0;34m\u001b[0m\u001b[0;34m\u001b[0m\u001b[0m\n\u001b[0m\u001b[1;32m      3\u001b[0m     \u001b[0;31m# The humidity_scaling parameter is only used for ECMWF ERA5 data\u001b[0m\u001b[0;34m\u001b[0m\u001b[0;34m\u001b[0m\u001b[0m\n\u001b[1;32m      4\u001b[0m     \u001b[0;31m# based on Teoh 2020 and Teoh 2022 - https://acp.copernicus.org/preprints/acp-2022-169/acp-2022-169.pdf\u001b[0m\u001b[0;34m\u001b[0m\u001b[0;34m\u001b[0m\u001b[0m\n\u001b[1;32m      5\u001b[0m     \u001b[0;31m# Here we use an example of constantly scaling the humidity value by 0.99\u001b[0m\u001b[0;34m\u001b[0m\u001b[0;34m\u001b[0m\u001b[0m\n",
            "\u001b[0;31mNameError\u001b[0m: name 'np' is not defined"
          ]
        }
      ]
    }
  ]
}