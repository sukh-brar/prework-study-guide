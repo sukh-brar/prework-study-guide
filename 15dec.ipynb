{
  "cells": [
    {
      "cell_type": "markdown",
      "metadata": {
        "id": "view-in-github",
        "colab_type": "text"
      },
      "source": [
        "<a href=\"https://colab.research.google.com/github/sukh-brar/prework-study-guide/blob/main/15dec.ipynb\" target=\"_parent\"><img src=\"https://colab.research.google.com/assets/colab-badge.svg\" alt=\"Open In Colab\"/></a>"
      ]
    },
    {
      "cell_type": "code",
      "execution_count": 1,
      "metadata": {
        "colab": {
          "base_uri": "https://localhost:8080/"
        },
        "id": "LnVbteu1TBxw",
        "outputId": "23f629da-a127-4c09-bdce-07428692115e"
      },
      "outputs": [
        {
          "output_type": "stream",
          "name": "stdout",
          "text": [
            "Requirement already satisfied: pycontrails in /usr/local/lib/python3.10/dist-packages (0.54.4)\n",
            "Requirement already satisfied: dask>=2022.3 in /usr/local/lib/python3.10/dist-packages (from pycontrails) (2024.10.0)\n",
            "Requirement already satisfied: numpy>=1.22 in /usr/local/lib/python3.10/dist-packages (from pycontrails) (1.26.4)\n",
            "Requirement already satisfied: pandas>=2.2 in /usr/local/lib/python3.10/dist-packages (from pycontrails) (2.2.2)\n",
            "Requirement already satisfied: scipy>=1.10 in /usr/local/lib/python3.10/dist-packages (from pycontrails) (1.13.1)\n",
            "Requirement already satisfied: typing-extensions>=4.5 in /usr/local/lib/python3.10/dist-packages (from pycontrails) (4.12.2)\n",
            "Requirement already satisfied: xarray>=2022.3 in /usr/local/lib/python3.10/dist-packages (from pycontrails) (2024.10.0)\n",
            "Requirement already satisfied: click>=8.1 in /usr/local/lib/python3.10/dist-packages (from dask>=2022.3->pycontrails) (8.1.7)\n",
            "Requirement already satisfied: cloudpickle>=3.0.0 in /usr/local/lib/python3.10/dist-packages (from dask>=2022.3->pycontrails) (3.1.0)\n",
            "Requirement already satisfied: fsspec>=2021.09.0 in /usr/local/lib/python3.10/dist-packages (from dask>=2022.3->pycontrails) (2024.10.0)\n",
            "Requirement already satisfied: packaging>=20.0 in /usr/local/lib/python3.10/dist-packages (from dask>=2022.3->pycontrails) (24.2)\n",
            "Requirement already satisfied: partd>=1.4.0 in /usr/local/lib/python3.10/dist-packages (from dask>=2022.3->pycontrails) (1.4.2)\n",
            "Requirement already satisfied: pyyaml>=5.3.1 in /usr/local/lib/python3.10/dist-packages (from dask>=2022.3->pycontrails) (6.0.2)\n",
            "Requirement already satisfied: toolz>=0.10.0 in /usr/local/lib/python3.10/dist-packages (from dask>=2022.3->pycontrails) (0.12.1)\n",
            "Requirement already satisfied: importlib-metadata>=4.13.0 in /usr/local/lib/python3.10/dist-packages (from dask>=2022.3->pycontrails) (8.5.0)\n",
            "Requirement already satisfied: python-dateutil>=2.8.2 in /usr/local/lib/python3.10/dist-packages (from pandas>=2.2->pycontrails) (2.8.2)\n",
            "Requirement already satisfied: pytz>=2020.1 in /usr/local/lib/python3.10/dist-packages (from pandas>=2.2->pycontrails) (2024.2)\n",
            "Requirement already satisfied: tzdata>=2022.7 in /usr/local/lib/python3.10/dist-packages (from pandas>=2.2->pycontrails) (2024.2)\n",
            "Requirement already satisfied: zipp>=3.20 in /usr/local/lib/python3.10/dist-packages (from importlib-metadata>=4.13.0->dask>=2022.3->pycontrails) (3.21.0)\n",
            "Requirement already satisfied: locket in /usr/local/lib/python3.10/dist-packages (from partd>=1.4.0->dask>=2022.3->pycontrails) (1.0.0)\n",
            "Requirement already satisfied: six>=1.5 in /usr/local/lib/python3.10/dist-packages (from python-dateutil>=2.8.2->pandas>=2.2->pycontrails) (1.17.0)\n"
          ]
        }
      ],
      "source": [
        "!pip install pycontrails"
      ]
    },
    {
      "cell_type": "code",
      "execution_count": 2,
      "metadata": {
        "colab": {
          "base_uri": "https://localhost:8080/"
        },
        "id": "S4E8BGhHTWyi",
        "outputId": "1c2192c0-456f-4638-ff3f-549e752b853b"
      },
      "outputs": [
        {
          "output_type": "stream",
          "name": "stdout",
          "text": [
            "Requirement already satisfied: cartopy in /usr/local/lib/python3.10/dist-packages (0.24.1)\n",
            "Requirement already satisfied: numpy>=1.23 in /usr/local/lib/python3.10/dist-packages (from cartopy) (1.26.4)\n",
            "Requirement already satisfied: matplotlib>=3.6 in /usr/local/lib/python3.10/dist-packages (from cartopy) (3.8.0)\n",
            "Requirement already satisfied: shapely>=1.8 in /usr/local/lib/python3.10/dist-packages (from cartopy) (2.0.6)\n",
            "Requirement already satisfied: packaging>=21 in /usr/local/lib/python3.10/dist-packages (from cartopy) (24.2)\n",
            "Requirement already satisfied: pyshp>=2.3 in /usr/local/lib/python3.10/dist-packages (from cartopy) (2.3.1)\n",
            "Requirement already satisfied: pyproj>=3.3.1 in /usr/local/lib/python3.10/dist-packages (from cartopy) (3.7.0)\n",
            "Requirement already satisfied: contourpy>=1.0.1 in /usr/local/lib/python3.10/dist-packages (from matplotlib>=3.6->cartopy) (1.3.1)\n",
            "Requirement already satisfied: cycler>=0.10 in /usr/local/lib/python3.10/dist-packages (from matplotlib>=3.6->cartopy) (0.12.1)\n",
            "Requirement already satisfied: fonttools>=4.22.0 in /usr/local/lib/python3.10/dist-packages (from matplotlib>=3.6->cartopy) (4.55.3)\n",
            "Requirement already satisfied: kiwisolver>=1.0.1 in /usr/local/lib/python3.10/dist-packages (from matplotlib>=3.6->cartopy) (1.4.7)\n",
            "Requirement already satisfied: pillow>=6.2.0 in /usr/local/lib/python3.10/dist-packages (from matplotlib>=3.6->cartopy) (11.0.0)\n",
            "Requirement already satisfied: pyparsing>=2.3.1 in /usr/local/lib/python3.10/dist-packages (from matplotlib>=3.6->cartopy) (3.2.0)\n",
            "Requirement already satisfied: python-dateutil>=2.7 in /usr/local/lib/python3.10/dist-packages (from matplotlib>=3.6->cartopy) (2.8.2)\n",
            "Requirement already satisfied: certifi in /usr/local/lib/python3.10/dist-packages (from pyproj>=3.3.1->cartopy) (2024.8.30)\n",
            "Requirement already satisfied: six>=1.5 in /usr/local/lib/python3.10/dist-packages (from python-dateutil>=2.7->matplotlib>=3.6->cartopy) (1.17.0)\n"
          ]
        }
      ],
      "source": [
        "!pip install cartopy"
      ]
    },
    {
      "cell_type": "code",
      "execution_count": 3,
      "metadata": {
        "id": "UjEEbTw_Th00"
      },
      "outputs": [],
      "source": [
        "import numpy as np\n",
        "import pandas as pd\n",
        "from matplotlib import pyplot as plt\n",
        "\n",
        "from pycontrails import Flight, MetDataset\n",
        "from pycontrails.datalib.ecmwf import ERA5\n",
        "from pycontrails.models.cocip import Cocip\n",
        "from pycontrails.models.humidity_scaling import ConstantHumidityScaling\n",
        "\n",
        "plt.rcParams[\"figure.figsize\"] = (10, 6)"
      ]
    },
    {
      "cell_type": "code",
      "execution_count": 4,
      "metadata": {
        "id": "F6YpLXuKTspC"
      },
      "outputs": [],
      "source": [
        "time_bounds = (\"2022-03-01 00:00:00\", \"2022-03-01 23:00:00\")\n",
        "pressure_levels = (300, 250, 200)"
      ]
    },
    {
      "cell_type": "code",
      "execution_count": 5,
      "metadata": {
        "id": "j6QGDVH-TwtH"
      },
      "outputs": [],
      "source": [
        "era5pl = ERA5(\n",
        "    time=time_bounds,\n",
        "    variables=Cocip.met_variables + Cocip.optional_met_variables,\n",
        "    pressure_levels=pressure_levels,\n",
        ")\n",
        "era5sl = ERA5(time=time_bounds, variables=Cocip.rad_variables)"
      ]
    },
    {
      "cell_type": "code",
      "execution_count": 6,
      "metadata": {
        "colab": {
          "base_uri": "https://localhost:8080/"
        },
        "id": "jUC7C9ILT0Eb",
        "outputId": "251167ee-c2ad-4d33-9fa7-88af44c75cfd"
      },
      "outputs": [
        {
          "output_type": "stream",
          "name": "stdout",
          "text": [
            "Requirement already satisfied: cdsapi in /usr/local/lib/python3.10/dist-packages (0.7.5)\n",
            "Requirement already satisfied: datapi in /usr/local/lib/python3.10/dist-packages (from cdsapi) (0.1.1)\n",
            "Requirement already satisfied: requests>=2.5.0 in /usr/local/lib/python3.10/dist-packages (from cdsapi) (2.32.3)\n",
            "Requirement already satisfied: tqdm in /usr/local/lib/python3.10/dist-packages (from cdsapi) (4.66.6)\n",
            "Requirement already satisfied: charset-normalizer<4,>=2 in /usr/local/lib/python3.10/dist-packages (from requests>=2.5.0->cdsapi) (3.4.0)\n",
            "Requirement already satisfied: idna<4,>=2.5 in /usr/local/lib/python3.10/dist-packages (from requests>=2.5.0->cdsapi) (3.10)\n",
            "Requirement already satisfied: urllib3<3,>=1.21.1 in /usr/local/lib/python3.10/dist-packages (from requests>=2.5.0->cdsapi) (2.2.3)\n",
            "Requirement already satisfied: certifi>=2017.4.17 in /usr/local/lib/python3.10/dist-packages (from requests>=2.5.0->cdsapi) (2024.8.30)\n",
            "Requirement already satisfied: attrs in /usr/local/lib/python3.10/dist-packages (from datapi->cdsapi) (24.2.0)\n",
            "Requirement already satisfied: multiurl>=0.3.2 in /usr/local/lib/python3.10/dist-packages (from datapi->cdsapi) (0.3.3)\n",
            "Requirement already satisfied: typing-extensions in /usr/local/lib/python3.10/dist-packages (from datapi->cdsapi) (4.12.2)\n",
            "Requirement already satisfied: pytz in /usr/local/lib/python3.10/dist-packages (from multiurl>=0.3.2->datapi->cdsapi) (2024.2)\n",
            "Requirement already satisfied: python-dateutil in /usr/local/lib/python3.10/dist-packages (from multiurl>=0.3.2->datapi->cdsapi) (2.8.2)\n",
            "Requirement already satisfied: six>=1.5 in /usr/local/lib/python3.10/dist-packages (from python-dateutil->multiurl>=0.3.2->datapi->cdsapi) (1.17.0)\n"
          ]
        }
      ],
      "source": [
        "!pip install cdsapi"
      ]
    },
    {
      "cell_type": "code",
      "execution_count": 7,
      "metadata": {
        "id": "CTwq4BkzfdWN"
      },
      "outputs": [],
      "source": [
        "!echo \"url: https://cds.climate.copernicus.eu/api/\" > ~/.cdsapirc\n",
        "!echo \"key: 36f3ae95-e0a3-48ef-92ff-2eb7e1ff908e\" >> ~/.cdsapirc"
      ]
    },
    {
      "cell_type": "code",
      "execution_count": null,
      "metadata": {
        "colab": {
          "base_uri": "https://localhost:8080/"
        },
        "id": "-gH6Uy8SUCDm",
        "outputId": "e4d16e96-e0cb-4e0d-a77e-af2858240d7e"
      },
      "outputs": [
        {
          "metadata": {
            "tags": null
          },
          "name": "stdout",
          "output_type": "stream",
          "text": [
            "Requirement already satisfied: netcdf4 in /usr/local/lib/python3.10/dist-packages (1.7.2)\n",
            "Requirement already satisfied: cftime in /usr/local/lib/python3.10/dist-packages (from netcdf4) (1.6.4.post1)\n",
            "Requirement already satisfied: certifi in /usr/local/lib/python3.10/dist-packages (from netcdf4) (2024.8.30)\n",
            "Requirement already satisfied: numpy in /usr/local/lib/python3.10/dist-packages (from netcdf4) (1.26.4)\n"
          ]
        },
        {
          "metadata": {
            "tags": null
          },
          "name": "stderr",
          "output_type": "stream",
          "text": [
            "2024-12-15 06:53:25,042 INFO [2024-09-28T00:00:00] **Welcome to the New Climate Data Store (CDS)!** This new system is in its early days of full operations and still undergoing enhancements and fine tuning. Some disruptions are to be expected. Your \n",
            "[feedback](https://jira.ecmwf.int/plugins/servlet/desk/portal/1/create/202) is key to improve the user experience on the new CDS for the benefit of everyone. Thank you.\n",
            "INFO:datapi.legacy_api_client:[2024-09-28T00:00:00] **Welcome to the New Climate Data Store (CDS)!** This new system is in its early days of full operations and still undergoing enhancements and fine tuning. Some disruptions are to be expected. Your \n",
            "[feedback](https://jira.ecmwf.int/plugins/servlet/desk/portal/1/create/202) is key to improve the user experience on the new CDS for the benefit of everyone. Thank you.\n",
            "2024-12-15 06:53:25,058 INFO [2024-09-26T00:00:00] Watch our [Forum](https://forum.ecmwf.int/) for Announcements, news and other discussed topics.\n",
            "INFO:datapi.legacy_api_client:[2024-09-26T00:00:00] Watch our [Forum](https://forum.ecmwf.int/) for Announcements, news and other discussed topics.\n",
            "2024-12-15 06:53:25,074 INFO [2024-09-16T00:00:00] Remember that you need to have an ECMWF account to use the new CDS. **Your old CDS credentials will not work in new CDS!**\n",
            "INFO:datapi.legacy_api_client:[2024-09-16T00:00:00] Remember that you need to have an ECMWF account to use the new CDS. **Your old CDS credentials will not work in new CDS!**\n",
            "2024-12-15 06:53:25,094 WARNING [2024-06-16T00:00:00] CDS API syntax is changed and some keys or parameter names may have also changed. To avoid requests failing, please use the \"Show API request code\" tool on the dataset Download Form to check you are using the correct syntax for your API request.\n",
            "WARNING:datapi.legacy_api_client:[2024-06-16T00:00:00] CDS API syntax is changed and some keys or parameter names may have also changed. To avoid requests failing, please use the \"Show API request code\" tool on the dataset Download Form to check you are using the correct syntax for your API request.\n",
            "2024-12-15 06:53:25,549 WARNING [2024-10-10T00:00:00] The final validated ERA5 differs from ERA5T from July 2024 until further notice - please refer to our\n",
            "[Forum announcement](https://forum.ecmwf.int/t/final-validated-era5-product-to-differ-from-era5t-in-july-2024/6685)\n",
            "for details and watch it for further updates on this.\n",
            "WARNING:datapi.legacy_api_client:[2024-10-10T00:00:00] The final validated ERA5 differs from ERA5T from July 2024 until further notice - please refer to our\n",
            "[Forum announcement](https://forum.ecmwf.int/t/final-validated-era5-product-to-differ-from-era5t-in-july-2024/6685)\n",
            "for details and watch it for further updates on this.\n",
            "2024-12-15 06:53:25,555 INFO Request ID is 07c8cc29-7a2a-4952-bf98-d35887c3e96c\n",
            "INFO:datapi.legacy_api_client:Request ID is 07c8cc29-7a2a-4952-bf98-d35887c3e96c\n",
            "2024-12-15 06:53:25,825 INFO status has been updated to accepted\n",
            "INFO:datapi.legacy_api_client:status has been updated to accepted\n"
          ]
        }
      ],
      "source": [
        "!pip install netcdf4 # Install netcdf4 library\n",
        "\n",
        "import xarray as xr\n",
        "\n",
        "# download data from ERA5 (or open from cache)\n",
        "met = era5pl.open_metdataset(engine=\"h5netcdf\")  # Use h5netcdf engine which supports netcdf4 files\n",
        "rad = era5sl.open_metdataset(engine=\"h5netcdf\")  # Use h5netcdf engine which supports netcdf4 files"
      ]
    },
    {
      "cell_type": "code",
      "execution_count": null,
      "metadata": {
        "id": "G03Gac32n9VE"
      },
      "outputs": [],
      "source": [
        "import cdsapi\n",
        "\n",
        "dataset = \"reanalysis-era5-single-levels\"\n",
        "request = {\n",
        "    \"product_type\": [\"reanalysis\"],\n",
        "    \"variable\": [\n",
        "        \"10m_u_component_of_wind\",\n",
        "        \"10m_v_component_of_wind\",\n",
        "        \"2m_dewpoint_temperature\",\n",
        "        \"2m_temperature\",\n",
        "        \"mean_wave_direction\",\n",
        "        \"mean_wave_period\",\n",
        "        \"sea_surface_temperature\",\n",
        "        \"significant_height_of_combined_wind_waves_and_swell\"\n",
        "    ],\n",
        "    \"year\": [\"2023\"],\n",
        "    \"month\": [\n",
        "        \"01\"\n",
        "    ],\n",
        "    \"day\": [\n",
        "        \"01\", \"02\"\n",
        "    ],\n",
        "    \"time\": [\n",
        "        \"00:00\", \"01:00\"\n",
        "    ],\n",
        "    \"data_format\": \"netcdf\",\n",
        "    \"download_format\": \"unarchived\",\n",
        "    \"area\": [90, -180, -90, 180]\n",
        "}\n",
        "\n",
        "client = cdsapi.Client()\n",
        "client.retrieve(dataset, request).download()\n"
      ]
    },
    {
      "cell_type": "code",
      "execution_count": null,
      "metadata": {
        "id": "RsMPNAw5u0DB"
      },
      "outputs": [],
      "source": [
        "met = era5pl.open_metdataset(engine=\"netcdf4\")\n",
        "     rad = era5sl.open_metdataset(engine=\"netcdf4\")"
      ]
    },
    {
      "cell_type": "code",
      "execution_count": null,
      "metadata": {
        "id": "rkMe6-njWegT"
      },
      "outputs": [],
      "source": [
        "# demo synthetic flight\n",
        "flight_attrs = {\n",
        "    \"flight_id\": \"test\",\n",
        "    # set constants along flight path\n",
        "    \"true_airspeed\": 226.099920796651,  # true airspeed, m/s\n",
        "    \"thrust\": 0.22,  # thrust_setting\n",
        "    \"nvpm_ei_n\": 1.897462e15,  # non-volatile emissions index\n",
        "    \"aircraft_type\": \"E190\",\n",
        "    \"wingspan\": 48,  # m\n",
        "    \"n_engine\": 2,\n",
        "}\n",
        "\n",
        "# Example flight\n",
        "df = pd.DataFrame()\n",
        "df[\"longitude\"] = np.linspace(-25, -40, 100)\n",
        "df[\"latitude\"] = np.linspace(34, 40, 100)\n",
        "df[\"altitude\"] = np.linspace(10900, 10900, 100)\n",
        "df[\"engine_efficiency\"] = np.linspace(0.34, 0.35, 100)\n",
        "df[\"fuel_flow\"] = np.linspace(2.1, 2.4, 100)  # kg/s\n",
        "df[\"aircraft_mass\"] = np.linspace(154445, 154345, 100)  # kg\n",
        "df[\"time\"] = pd.date_range(\"2022-03-01T00:15:00\", \"2022-03-01T02:30:00\", periods=100)\n",
        "\n",
        "flight = Flight(df, attrs=flight_attrs)\n",
        "flight"
      ]
    },
    {
      "cell_type": "code",
      "execution_count": null,
      "metadata": {
        "id": "Q0XYdWAzjfep"
      },
      "outputs": [],
      "source": [
        "!pip install h5netcdf  # Ensure h5netcdf is installed\n",
        "!pip install netcdf4 # Ensure netcdf4 is installed\n",
        "\n",
        "import xarray as xr\n",
        "import h5netcdf"
      ]
    },
    {
      "cell_type": "code",
      "execution_count": null,
      "metadata": {
        "id": "INW-Z8-_Ztxz"
      },
      "outputs": [],
      "source": [
        "params = {\n",
        "    \"dt_integration\": np.timedelta64(10, \"m\"),\n",
        "    # The humidity_scaling parameter is only used for ECMWF ERA5 data\n",
        "    # based on Teoh 2020 and Teoh 2022 - https://acp.copernicus.org/preprints/acp-2022-169/acp-2022-169.pdf\n",
        "    # Here we use an example of constantly scaling the humidity value by 0.99\n",
        "    \"humidity_scaling\": ConstantHumidityScaling(rhi_adj=0.99),\n",
        "}\n",
        "cocip = Cocip(met=met, rad=rad, params=params)\n",
        "\n",
        "output_flight = cocip.eval(source=flight)"
      ]
    },
    {
      "cell_type": "code",
      "execution_count": null,
      "metadata": {
        "id": "fKaSWlGp6-Be"
      },
      "outputs": [],
      "source": [
        "df = output_flight.dataframe\n",
        "df.head()"
      ]
    },
    {
      "cell_type": "code",
      "execution_count": null,
      "metadata": {
        "id": "I1gk95FL7FA7"
      },
      "outputs": [],
      "source": [
        "df.plot.scatter(\n",
        "    x=\"longitude\",\n",
        "    y=\"latitude\",\n",
        "    c=\"ef\",\n",
        "    cmap=\"coolwarm\",\n",
        "    vmin=-1e13,\n",
        "    vmax=1e13,\n",
        "    title=\"EF generated by flight waypoint\",\n",
        ");"
      ]
    },
    {
      "cell_type": "code",
      "execution_count": null,
      "metadata": {
        "id": "XKFvzcyE7Pq7"
      },
      "outputs": [],
      "source": [
        "df.plot.scatter(\n",
        "    x=\"longitude\",\n",
        "    y=\"latitude\",\n",
        "    c=\"rhi_1\",\n",
        "    cmap=\"magma\",\n",
        "    title=\"Initial RHi along flight path\",\n",
        ");"
      ]
    },
    {
      "cell_type": "code",
      "execution_count": null,
      "metadata": {
        "id": "4YytHVnE7Zvv"
      },
      "outputs": [],
      "source": [
        "contrail = cocip.contrail\n",
        "contrail.head()"
      ]
    },
    {
      "cell_type": "code",
      "execution_count": null,
      "metadata": {
        "id": "mnsxtFJW7kLl"
      },
      "outputs": [],
      "source": [
        "ax = plt.axes()\n",
        "\n",
        "cocip.source.dataframe.plot(\n",
        "    \"longitude\",\n",
        "    \"latitude\",\n",
        "    color=\"k\",\n",
        "    ax=ax,\n",
        "    label=\"Flight path\",\n",
        ")\n",
        "cocip.contrail.plot.scatter(\n",
        "    \"longitude\",\n",
        "    \"latitude\",\n",
        "    c=\"rf_lw\",\n",
        "    cmap=\"Reds\",\n",
        "    ax=ax,\n",
        "    label=\"Contrail LW RF\",\n",
        ")\n",
        "ax.legend();"
      ]
    },
    {
      "cell_type": "code",
      "execution_count": null,
      "metadata": {
        "id": "0_2YoLgh74Qj"
      },
      "outputs": [],
      "source": [
        "ax = plt.axes()\n",
        "\n",
        "cocip.source.dataframe.plot(\n",
        "    \"longitude\",\n",
        "    \"latitude\",\n",
        "    color=\"k\",\n",
        "    ax=ax,\n",
        "    label=\"Flight path\",\n",
        ")\n",
        "cocip.contrail.plot.scatter(\n",
        "    \"longitude\",\n",
        "    \"latitude\",\n",
        "    c=\"ef\",\n",
        "    cmap=\"coolwarm\",\n",
        "    vmin=-1e12,\n",
        "    vmax=1e12,\n",
        "    ax=ax,\n",
        "    label=\"Contrail EF\",\n",
        ")\n",
        "ax.legend();"
      ]
    },
    {
      "cell_type": "code",
      "execution_count": null,
      "metadata": {
        "id": "4896c5h88D3q"
      },
      "outputs": [],
      "source": [
        "from pycontrails.models.cocip import (\n",
        "    flight_waypoint_summary_statistics,\n",
        "    contrail_flight_summary_statistics,\n",
        ")"
      ]
    },
    {
      "cell_type": "code",
      "execution_count": null,
      "metadata": {
        "id": "zgCZ2xvj8GqK"
      },
      "outputs": [],
      "source": [
        "# flight_statistics = cocip.output_flight_statistics()\n",
        "# flight_statistics\n",
        "\n",
        "waypoint_summary = flight_waypoint_summary_statistics(cocip.source, cocip.contrail)\n",
        "flight_summary = contrail_flight_summary_statistics(waypoint_summary)\n",
        "flight_summary"
      ]
    },
    {
      "cell_type": "code",
      "execution_count": null,
      "metadata": {
        "id": "zw6qIKRp9Kd2"
      },
      "outputs": [],
      "source": [
        "flights = []\n",
        "for i in range(10):\n",
        "    fl = flight.copy()\n",
        "    fl.attrs.update(flight_id=f\"test-{i:02d}\")\n",
        "    fl.update(latitude=flight[\"latitude\"] + i)\n",
        "    fl.update(longitude=flight[\"longitude\"] + i)\n",
        "    flights.append(fl)"
      ]
    },
    {
      "cell_type": "code",
      "execution_count": null,
      "metadata": {
        "id": "VfWAmbL69OCR"
      },
      "outputs": [],
      "source": [
        "# Visualize the fleet of 10 flights\n",
        "ax = plt.axes()\n",
        "for fl in flights:\n",
        "    fl.plot(ax=ax)"
      ]
    },
    {
      "cell_type": "code",
      "execution_count": null,
      "metadata": {
        "id": "Ezw4HZa59bI5"
      },
      "outputs": [],
      "source": [
        "cocip = Cocip(\n",
        "    met=met,\n",
        "    rad=rad,\n",
        "    process_emissions=False,\n",
        "    humidity_scaling=ConstantHumidityScaling(rhi_adj=0.99),\n",
        ")\n",
        "\n",
        "# returns list of Flight outputs\n",
        "output_flights = cocip.eval(source=flights)"
      ]
    }
  ],
  "metadata": {
    "colab": {
      "provenance": [],
      "authorship_tag": "ABX9TyPsK6NpbxkW9+USk+EjL7j2",
      "include_colab_link": true
    },
    "kernelspec": {
      "display_name": "Python 3",
      "name": "python3"
    },
    "language_info": {
      "name": "python"
    }
  },
  "nbformat": 4,
  "nbformat_minor": 0
}